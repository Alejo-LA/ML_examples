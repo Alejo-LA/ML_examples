{
 "cells": [
  {
   "cell_type": "code",
   "execution_count": 1,
   "metadata": {},
   "outputs": [
    {
     "name": "stderr",
     "output_type": "stream",
     "text": [
      "/usr/lib/python3/dist-packages/IPython/core/interactiveshell.py:3062: DtypeWarning: Columns (0) have mixed types.Specify dtype option on import or set low_memory=False.\n",
      "  has_raised = await self.run_ast_nodes(code_ast.body, cell_name,\n"
     ]
    }
   ],
   "source": [
    "# We load the data into a dataframe. I have downloaded the data my current folder and I load it from there\n",
    "import pandas as pd\n",
    "import os\n",
    "base_path = os.getcwd()\n",
    "file_name = \"dftRoadSafetyData_Accidents_2018.csv\"\n",
    "path = os.path.join(base_path, file_name)\n",
    "df_RS = pd.read_csv(path)"
   ]
  },
  {
   "cell_type": "code",
   "execution_count": 2,
   "metadata": {},
   "outputs": [],
   "source": [
    "####################     FIRST OBSERVATIONS     ####################"
   ]
  },
  {
   "cell_type": "code",
   "execution_count": 3,
   "metadata": {},
   "outputs": [
    {
     "name": "stdout",
     "output_type": "stream",
     "text": [
      "<class 'pandas.core.frame.DataFrame'>\n",
      "RangeIndex: 122635 entries, 0 to 122634\n",
      "Data columns (total 32 columns):\n",
      " #   Column                                       Non-Null Count   Dtype  \n",
      "---  ------                                       --------------   -----  \n",
      " 0   Accident_Index                               122635 non-null  object \n",
      " 1   Location_Easting_OSGR                        122580 non-null  float64\n",
      " 2   Location_Northing_OSGR                       122580 non-null  float64\n",
      " 3   Longitude                                    122580 non-null  float64\n",
      " 4   Latitude                                     122580 non-null  float64\n",
      " 5   Police_Force                                 122635 non-null  int64  \n",
      " 6   Accident_Severity                            122635 non-null  int64  \n",
      " 7   Number_of_Vehicles                           122635 non-null  int64  \n",
      " 8   Number_of_Casualties                         122635 non-null  int64  \n",
      " 9   Date                                         122635 non-null  object \n",
      " 10  Day_of_Week                                  122635 non-null  int64  \n",
      " 11  Time                                         122622 non-null  object \n",
      " 12  Local_Authority_(District)                   122635 non-null  int64  \n",
      " 13  Local_Authority_(Highway)                    122635 non-null  object \n",
      " 14  1st_Road_Class                               122635 non-null  int64  \n",
      " 15  1st_Road_Number                              122635 non-null  int64  \n",
      " 16  Road_Type                                    122635 non-null  int64  \n",
      " 17  Speed_limit                                  122635 non-null  int64  \n",
      " 18  Junction_Detail                              122635 non-null  int64  \n",
      " 19  Junction_Control                             122635 non-null  int64  \n",
      " 20  2nd_Road_Class                               122635 non-null  int64  \n",
      " 21  2nd_Road_Number                              122635 non-null  int64  \n",
      " 22  Pedestrian_Crossing-Human_Control            122635 non-null  int64  \n",
      " 23  Pedestrian_Crossing-Physical_Facilities      122635 non-null  int64  \n",
      " 24  Light_Conditions                             122635 non-null  int64  \n",
      " 25  Weather_Conditions                           122635 non-null  int64  \n",
      " 26  Road_Surface_Conditions                      122635 non-null  int64  \n",
      " 27  Special_Conditions_at_Site                   122635 non-null  int64  \n",
      " 28  Carriageway_Hazards                          122635 non-null  int64  \n",
      " 29  Urban_or_Rural_Area                          122635 non-null  int64  \n",
      " 30  Did_Police_Officer_Attend_Scene_of_Accident  122635 non-null  int64  \n",
      " 31  LSOA_of_Accident_Location                    116190 non-null  object \n",
      "dtypes: float64(4), int64(23), object(5)\n",
      "memory usage: 29.9+ MB\n"
     ]
    }
   ],
   "source": [
    "# The data comes with 32 columns, almost all of them in numeric format, but categorical data, \n",
    "# and without so many missing data (more of the 90% are non-null)\n",
    "# There are three datetime columns that we can join together and see if there's any periodicity of the accidents along\n",
    "# the year or the moment of the day. In fact the best option would be to take the data \n",
    "# from the years before provided by the same webpage but in the test description it was said 2018.\n",
    "# I assume the idea is that it's the unique data I would have access in a real case. \n",
    "# This is clearly a bynary classification problem with labels \"30  Did_Police_Officer_Attend_Scene_of_Accident\"\n",
    "# We can cluster the features in three main types: localization, time and kind of accident\n",
    "df_RS.info()"
   ]
  },
  {
   "cell_type": "code",
   "execution_count": 4,
   "metadata": {},
   "outputs": [],
   "source": [
    "####################     CLEANING DATA     ####################"
   ]
  },
  {
   "cell_type": "code",
   "execution_count": 5,
   "metadata": {},
   "outputs": [
    {
     "data": {
      "text/html": [
       "<div>\n",
       "<style scoped>\n",
       "    .dataframe tbody tr th:only-of-type {\n",
       "        vertical-align: middle;\n",
       "    }\n",
       "\n",
       "    .dataframe tbody tr th {\n",
       "        vertical-align: top;\n",
       "    }\n",
       "\n",
       "    .dataframe thead th {\n",
       "        text-align: right;\n",
       "    }\n",
       "</style>\n",
       "<table border=\"1\" class=\"dataframe\">\n",
       "  <thead>\n",
       "    <tr style=\"text-align: right;\">\n",
       "      <th></th>\n",
       "      <th>Accident_Index</th>\n",
       "      <th>Location_Easting_OSGR</th>\n",
       "      <th>Location_Northing_OSGR</th>\n",
       "      <th>Longitude</th>\n",
       "      <th>Latitude</th>\n",
       "      <th>Police_Force</th>\n",
       "      <th>Accident_Severity</th>\n",
       "      <th>Number_of_Vehicles</th>\n",
       "      <th>Number_of_Casualties</th>\n",
       "      <th>Date</th>\n",
       "      <th>Day_of_Week</th>\n",
       "      <th>Time</th>\n",
       "      <th>Local_Authority_(District)</th>\n",
       "      <th>Local_Authority_(Highway)</th>\n",
       "      <th>1st_Road_Class</th>\n",
       "      <th>1st_Road_Number</th>\n",
       "      <th>Road_Type</th>\n",
       "      <th>Speed_limit</th>\n",
       "      <th>Junction_Detail</th>\n",
       "      <th>Junction_Control</th>\n",
       "      <th>2nd_Road_Class</th>\n",
       "      <th>2nd_Road_Number</th>\n",
       "      <th>Pedestrian_Crossing-Human_Control</th>\n",
       "      <th>Pedestrian_Crossing-Physical_Facilities</th>\n",
       "      <th>Light_Conditions</th>\n",
       "      <th>Weather_Conditions</th>\n",
       "      <th>Road_Surface_Conditions</th>\n",
       "      <th>Special_Conditions_at_Site</th>\n",
       "      <th>Carriageway_Hazards</th>\n",
       "      <th>Urban_or_Rural_Area</th>\n",
       "      <th>Label</th>\n",
       "      <th>LSOA_of_Accident_Location</th>\n",
       "    </tr>\n",
       "  </thead>\n",
       "  <tbody>\n",
       "    <tr>\n",
       "      <th>0</th>\n",
       "      <td>2018010080971</td>\n",
       "      <td>529150.0</td>\n",
       "      <td>182270.0</td>\n",
       "      <td>-0.139737</td>\n",
       "      <td>51.524587</td>\n",
       "      <td>1</td>\n",
       "      <td>3</td>\n",
       "      <td>2</td>\n",
       "      <td>2</td>\n",
       "      <td>01/01/2018</td>\n",
       "      <td>2</td>\n",
       "      <td>01:30</td>\n",
       "      <td>2</td>\n",
       "      <td>E09000007</td>\n",
       "      <td>3</td>\n",
       "      <td>501</td>\n",
       "      <td>3</td>\n",
       "      <td>30</td>\n",
       "      <td>0</td>\n",
       "      <td>-1</td>\n",
       "      <td>-1</td>\n",
       "      <td>0</td>\n",
       "      <td>0</td>\n",
       "      <td>0</td>\n",
       "      <td>4</td>\n",
       "      <td>1</td>\n",
       "      <td>1</td>\n",
       "      <td>0</td>\n",
       "      <td>0</td>\n",
       "      <td>1</td>\n",
       "      <td>1</td>\n",
       "      <td>E01000854</td>\n",
       "    </tr>\n",
       "    <tr>\n",
       "      <th>1</th>\n",
       "      <td>2018010080973</td>\n",
       "      <td>542020.0</td>\n",
       "      <td>184290.0</td>\n",
       "      <td>0.046471</td>\n",
       "      <td>51.539651</td>\n",
       "      <td>1</td>\n",
       "      <td>3</td>\n",
       "      <td>1</td>\n",
       "      <td>1</td>\n",
       "      <td>01/01/2018</td>\n",
       "      <td>2</td>\n",
       "      <td>00:50</td>\n",
       "      <td>17</td>\n",
       "      <td>E09000025</td>\n",
       "      <td>4</td>\n",
       "      <td>165</td>\n",
       "      <td>6</td>\n",
       "      <td>30</td>\n",
       "      <td>2</td>\n",
       "      <td>4</td>\n",
       "      <td>6</td>\n",
       "      <td>0</td>\n",
       "      <td>0</td>\n",
       "      <td>0</td>\n",
       "      <td>4</td>\n",
       "      <td>1</td>\n",
       "      <td>1</td>\n",
       "      <td>0</td>\n",
       "      <td>0</td>\n",
       "      <td>1</td>\n",
       "      <td>1</td>\n",
       "      <td>E01003531</td>\n",
       "    </tr>\n",
       "    <tr>\n",
       "      <th>2</th>\n",
       "      <td>2018010080974</td>\n",
       "      <td>531720.0</td>\n",
       "      <td>182910.0</td>\n",
       "      <td>-0.102474</td>\n",
       "      <td>51.529746</td>\n",
       "      <td>1</td>\n",
       "      <td>3</td>\n",
       "      <td>2</td>\n",
       "      <td>1</td>\n",
       "      <td>01/01/2018</td>\n",
       "      <td>2</td>\n",
       "      <td>00:45</td>\n",
       "      <td>3</td>\n",
       "      <td>E09000019</td>\n",
       "      <td>3</td>\n",
       "      <td>1</td>\n",
       "      <td>6</td>\n",
       "      <td>20</td>\n",
       "      <td>6</td>\n",
       "      <td>4</td>\n",
       "      <td>5</td>\n",
       "      <td>0</td>\n",
       "      <td>0</td>\n",
       "      <td>5</td>\n",
       "      <td>4</td>\n",
       "      <td>1</td>\n",
       "      <td>1</td>\n",
       "      <td>0</td>\n",
       "      <td>0</td>\n",
       "      <td>1</td>\n",
       "      <td>1</td>\n",
       "      <td>E01002723</td>\n",
       "    </tr>\n",
       "    <tr>\n",
       "      <th>3</th>\n",
       "      <td>2018010080981</td>\n",
       "      <td>541450.0</td>\n",
       "      <td>183220.0</td>\n",
       "      <td>0.037828</td>\n",
       "      <td>51.530179</td>\n",
       "      <td>1</td>\n",
       "      <td>2</td>\n",
       "      <td>2</td>\n",
       "      <td>1</td>\n",
       "      <td>01/01/2018</td>\n",
       "      <td>2</td>\n",
       "      <td>03:00</td>\n",
       "      <td>17</td>\n",
       "      <td>E09000025</td>\n",
       "      <td>4</td>\n",
       "      <td>167</td>\n",
       "      <td>3</td>\n",
       "      <td>30</td>\n",
       "      <td>7</td>\n",
       "      <td>2</td>\n",
       "      <td>3</td>\n",
       "      <td>124</td>\n",
       "      <td>0</td>\n",
       "      <td>5</td>\n",
       "      <td>4</td>\n",
       "      <td>2</td>\n",
       "      <td>2</td>\n",
       "      <td>0</td>\n",
       "      <td>0</td>\n",
       "      <td>1</td>\n",
       "      <td>1</td>\n",
       "      <td>E01003492</td>\n",
       "    </tr>\n",
       "    <tr>\n",
       "      <th>4</th>\n",
       "      <td>2018010080982</td>\n",
       "      <td>543580.0</td>\n",
       "      <td>176500.0</td>\n",
       "      <td>0.065781</td>\n",
       "      <td>51.469258</td>\n",
       "      <td>1</td>\n",
       "      <td>2</td>\n",
       "      <td>2</td>\n",
       "      <td>2</td>\n",
       "      <td>01/01/2018</td>\n",
       "      <td>2</td>\n",
       "      <td>02:20</td>\n",
       "      <td>6</td>\n",
       "      <td>E09000011</td>\n",
       "      <td>3</td>\n",
       "      <td>207</td>\n",
       "      <td>6</td>\n",
       "      <td>30</td>\n",
       "      <td>0</td>\n",
       "      <td>-1</td>\n",
       "      <td>-1</td>\n",
       "      <td>0</td>\n",
       "      <td>0</td>\n",
       "      <td>0</td>\n",
       "      <td>4</td>\n",
       "      <td>1</td>\n",
       "      <td>2</td>\n",
       "      <td>0</td>\n",
       "      <td>0</td>\n",
       "      <td>1</td>\n",
       "      <td>1</td>\n",
       "      <td>E01001682</td>\n",
       "    </tr>\n",
       "  </tbody>\n",
       "</table>\n",
       "</div>"
      ],
      "text/plain": [
       "  Accident_Index  Location_Easting_OSGR  Location_Northing_OSGR  Longitude  \\\n",
       "0  2018010080971               529150.0                182270.0  -0.139737   \n",
       "1  2018010080973               542020.0                184290.0   0.046471   \n",
       "2  2018010080974               531720.0                182910.0  -0.102474   \n",
       "3  2018010080981               541450.0                183220.0   0.037828   \n",
       "4  2018010080982               543580.0                176500.0   0.065781   \n",
       "\n",
       "    Latitude  Police_Force  Accident_Severity  Number_of_Vehicles  \\\n",
       "0  51.524587             1                  3                   2   \n",
       "1  51.539651             1                  3                   1   \n",
       "2  51.529746             1                  3                   2   \n",
       "3  51.530179             1                  2                   2   \n",
       "4  51.469258             1                  2                   2   \n",
       "\n",
       "   Number_of_Casualties        Date  Day_of_Week   Time  \\\n",
       "0                     2  01/01/2018            2  01:30   \n",
       "1                     1  01/01/2018            2  00:50   \n",
       "2                     1  01/01/2018            2  00:45   \n",
       "3                     1  01/01/2018            2  03:00   \n",
       "4                     2  01/01/2018            2  02:20   \n",
       "\n",
       "   Local_Authority_(District) Local_Authority_(Highway)  1st_Road_Class  \\\n",
       "0                           2                 E09000007               3   \n",
       "1                          17                 E09000025               4   \n",
       "2                           3                 E09000019               3   \n",
       "3                          17                 E09000025               4   \n",
       "4                           6                 E09000011               3   \n",
       "\n",
       "   1st_Road_Number  Road_Type  Speed_limit  Junction_Detail  Junction_Control  \\\n",
       "0              501          3           30                0                -1   \n",
       "1              165          6           30                2                 4   \n",
       "2                1          6           20                6                 4   \n",
       "3              167          3           30                7                 2   \n",
       "4              207          6           30                0                -1   \n",
       "\n",
       "   2nd_Road_Class  2nd_Road_Number  Pedestrian_Crossing-Human_Control  \\\n",
       "0              -1                0                                  0   \n",
       "1               6                0                                  0   \n",
       "2               5                0                                  0   \n",
       "3               3              124                                  0   \n",
       "4              -1                0                                  0   \n",
       "\n",
       "   Pedestrian_Crossing-Physical_Facilities  Light_Conditions  \\\n",
       "0                                        0                 4   \n",
       "1                                        0                 4   \n",
       "2                                        5                 4   \n",
       "3                                        5                 4   \n",
       "4                                        0                 4   \n",
       "\n",
       "   Weather_Conditions  Road_Surface_Conditions  Special_Conditions_at_Site  \\\n",
       "0                   1                        1                           0   \n",
       "1                   1                        1                           0   \n",
       "2                   1                        1                           0   \n",
       "3                   2                        2                           0   \n",
       "4                   1                        2                           0   \n",
       "\n",
       "   Carriageway_Hazards  Urban_or_Rural_Area  Label LSOA_of_Accident_Location  \n",
       "0                    0                    1      1                 E01000854  \n",
       "1                    0                    1      1                 E01003531  \n",
       "2                    0                    1      1                 E01002723  \n",
       "3                    0                    1      1                 E01003492  \n",
       "4                    0                    1      1                 E01001682  "
      ]
     },
     "execution_count": 5,
     "metadata": {},
     "output_type": "execute_result"
    }
   ],
   "source": [
    "# Let's take a closer look\n",
    "df_RS.rename(columns = {\"Did_Police_Officer_Attend_Scene_of_Accident\": \"Label\"}, inplace=True)\n",
    "pd.set_option(\"display.max_columns\",32)\n",
    "df_RS.head(5)"
   ]
  },
  {
   "cell_type": "code",
   "execution_count": 6,
   "metadata": {},
   "outputs": [],
   "source": [
    "# Local_Authority_(Highway) depends on the localization, it's the district, as well as, LSOA_of_Accident_Location\n",
    "# If you look online you can find them. And we you extend the head to 30 one gets the impression that \n",
    "# there is a 1-1 correspondence with \"Local_Authority_(District)\". \n",
    "# Probably it's not 100% 1-1 but \"Local_Authority_(District)\" together with latitude and longitude provides already the information\n",
    "# and it's not worthy to apply a lambda to convert them to numerical.\n",
    "# The numerical columns with \"OSGR\" correspond to a grid of the localization again, and therefore not usefull (for this problem).\n",
    "# Columns like (e.g, \"Special_Conditions_at_Site\" ) look like they may not be independents \n",
    "# but I am not completely sure so I let them so far\n",
    "df_RS.drop(columns = [\"Local_Authority_(Highway)\", \"LSOA_of_Accident_Location\", \"Location_Easting_OSGR\", \"Location_Northing_OSGR\"], inplace=True)"
   ]
  },
  {
   "cell_type": "code",
   "execution_count": 7,
   "metadata": {},
   "outputs": [
    {
     "data": {
      "text/plain": [
       "(122567, 27)"
      ]
     },
     "execution_count": 7,
     "metadata": {},
     "output_type": "execute_result"
    }
   ],
   "source": [
    "# Before going farther we must clean a bit the data\n",
    "# We have 122635 rows and allmost all the values are not null.\n",
    "# Some of them like Time make sense to be null, but not Nan\n",
    "# But there 55 rows where the localization is not given (longitude can be 0 because of Greenwich)\n",
    "# In fact, erasing just those from Latitude we have deleted the 55 missing localizations and 13 Time variables\n",
    "df_RS.dropna(axis=\"index\", how=\"any\", subset = [\"Latitude\",\"Time\"], inplace=True)\n",
    "df_RS.set_index(\"Accident_Index\",inplace=True)\n",
    "df_RS.shape"
   ]
  },
  {
   "cell_type": "code",
   "execution_count": 8,
   "metadata": {},
   "outputs": [
    {
     "data": {
      "text/plain": [
       "Longitude                                  0\n",
       "Latitude                                   0\n",
       "Police_Force                               0\n",
       "Accident_Severity                          0\n",
       "Number_of_Vehicles                         0\n",
       "Number_of_Casualties                       0\n",
       "Date                                       0\n",
       "Day_of_Week                                0\n",
       "Time                                       0\n",
       "Local_Authority_(District)                 0\n",
       "1st_Road_Class                             0\n",
       "1st_Road_Number                            0\n",
       "Road_Type                                  0\n",
       "Speed_limit                                0\n",
       "Junction_Detail                            0\n",
       "Junction_Control                           0\n",
       "2nd_Road_Class                             0\n",
       "2nd_Road_Number                            0\n",
       "Pedestrian_Crossing-Human_Control          0\n",
       "Pedestrian_Crossing-Physical_Facilities    0\n",
       "Light_Conditions                           0\n",
       "Weather_Conditions                         0\n",
       "Road_Surface_Conditions                    0\n",
       "Special_Conditions_at_Site                 0\n",
       "Carriageway_Hazards                        0\n",
       "Urban_or_Rural_Area                        0\n",
       "Label                                      0\n",
       "dtype: int64"
      ]
     },
     "execution_count": 8,
     "metadata": {},
     "output_type": "execute_result"
    }
   ],
   "source": [
    "# But we still have sum Nan values in the columns Time. They are just 13 so it's not worthy to get a mean or something like that\n",
    "df_RS.isna().sum()"
   ]
  },
  {
   "cell_type": "code",
   "execution_count": 9,
   "metadata": {},
   "outputs": [],
   "source": [
    "####################     DATE_TIME     ####################"
   ]
  },
  {
   "cell_type": "code",
   "execution_count": 10,
   "metadata": {},
   "outputs": [
    {
     "name": "stdout",
     "output_type": "stream",
     "text": [
      "Accident_Index\n",
      "2018010080971    01/01/2018\n",
      "2018010080973    01/01/2018\n",
      "Name: Date, dtype: object\n",
      "Accident_Index\n",
      "2018010080971    2\n",
      "2018010080973    2\n",
      "Name: Day_of_Week, dtype: int64\n",
      "Accident_Index\n",
      "2018010080971    01:30\n",
      "2018010080973    00:50\n",
      "Name: Time, dtype: object\n"
     ]
    }
   ],
   "source": [
    "# Let's start with the time data against the severity of the accident and the labels\n",
    "# I need to check the formats first\n",
    "print(df_RS[\"Date\"].head(2))\n",
    "print(df_RS[\"Day_of_Week\"].head(2))\n",
    "print(df_RS[\"Time\"].head(2))"
   ]
  },
  {
   "cell_type": "code",
   "execution_count": 11,
   "metadata": {},
   "outputs": [
    {
     "data": {
      "text/plain": [
       "<matplotlib.axes._subplots.AxesSubplot at 0x7f709fe52970>"
      ]
     },
     "execution_count": 11,
     "metadata": {},
     "output_type": "execute_result"
    },
    {
     "data": {
      "image/png": "[encoded data removed]",
      "text/plain": [
       "<Figure size 576x432 with 1 Axes>"
      ]
     },
     "metadata": {
      "needs_background": "light"
     },
     "output_type": "display_data"
    }
   ],
   "source": [
    "# BY DATE\n",
    "df_RS[\"Date\"] = pd.to_datetime(df_RS[\"Date\"], format=\"%d/%m/%Y\")\n",
    "df_date = df_RS.groupby(\"Date\").sum().reset_index()\n",
    "df_date[\"Date\"] = df_date[\"Date\"].dt.date\n",
    "\n",
    "# BY TIME\n",
    "df_RS[\"Time\"] = pd.to_datetime(df_RS[\"Time\"], format=\"%H:%M\")\n",
    "df_time = df_RS.groupby(\"Time\").sum().reset_index()\n",
    "df_time[\"Time\"] = df_time[\"Time\"].dt.time\n",
    "\n",
    "# BY week\n",
    "df_week = df_RS.groupby(\"Day_of_Week\").sum().reset_index()\n",
    "#df_week[\"Day_of_Week\"] = df_week['Day_of_Week'].dt.week\n",
    "\n",
    "# Let's plot it\n",
    "# There are two peaks in along the day, I guess start and end of the office time. \n",
    "# The second one looks higher. There is clearly less amount of accidents during the night.\n",
    "df_time.set_index(\"Time\")[[\"Accident_Severity\", \"Label\"]].plot(style='o',figsize=[8,6])"
   ]
  },
  {
   "cell_type": "code",
   "execution_count": 12,
   "metadata": {},
   "outputs": [
    {
     "data": {
      "text/plain": [
       "<matplotlib.axes._subplots.AxesSubplot at 0x7f709d054d60>"
      ]
     },
     "execution_count": 12,
     "metadata": {},
     "output_type": "execute_result"
    },
    {
     "data": {
      "image/png": "[encoded data removed]",
      "text/plain": [
       "<Figure size 576x432 with 1 Axes>"
      ]
     },
     "metadata": {
      "needs_background": "light"
     },
     "output_type": "display_data"
    }
   ],
   "source": [
    "# The sparcity of the data along the year is very high and I am not sure if those peaks are\n",
    "# outliers or precise dates (I did not check other years)\n",
    "df_date[[\"Accident_Severity\", \"Label\"]].plot(style='o',figsize=[8,6])"
   ]
  },
  {
   "cell_type": "code",
   "execution_count": 13,
   "metadata": {},
   "outputs": [
    {
     "data": {
      "text/plain": [
       "<matplotlib.axes._subplots.AxesSubplot at 0x7f709cfd6c10>"
      ]
     },
     "execution_count": 13,
     "metadata": {},
     "output_type": "execute_result"
    },
    {
     "data": {
      "image/png": "[encoded data removed]",
      "text/plain": [
       "<Figure size 576x432 with 1 Axes>"
      ]
     },
     "metadata": {
      "needs_background": "light"
     },
     "output_type": "display_data"
    }
   ],
   "source": [
    "# The day of the week is in a English format so 0=Sunday. \n",
    "# We can see that the weekends the number of accdients is smaller but it increase along week until Friday\n",
    "df_week[[\"Accident_Severity\", \"Label\"]].plot(style='o',figsize=[8,6])"
   ]
  },
  {
   "cell_type": "code",
   "execution_count": 14,
   "metadata": {},
   "outputs": [],
   "source": [
    "# I prefer to do not join these columns since they look to provide different information\n",
    "# Maybe for a not NN I will give more weight to the week and time.\n",
    "# The NN would update the weights of each variable in the shallow layers"
   ]
  },
  {
   "cell_type": "code",
   "execution_count": 15,
   "metadata": {},
   "outputs": [],
   "source": [
    "# Before going farther we swithc to numeric format\n",
    "# Date\n",
    "df_RS[\"Date\"] = df_RS.apply(lambda x: x[\"Date\"].strftime('%j'),axis=1)\n",
    "df_RS[\"Date\"] = pd.to_numeric(df_RS[\"Date\"])\n",
    "# Time\n",
    "df_RS[\"Time\"] = df_RS[\"Time\"].dt.time\n",
    "df_RS[\"Time\"] = df_RS[\"Time\"].apply(lambda x: (x.hour)*60 + x.minute)"
   ]
  },
  {
   "cell_type": "code",
   "execution_count": 16,
   "metadata": {},
   "outputs": [
    {
     "name": "stdout",
     "output_type": "stream",
     "text": [
      "<class 'pandas.core.frame.DataFrame'>\n",
      "Index: 122567 entries, 2018010080971 to 2018984116418\n",
      "Data columns (total 27 columns):\n",
      " #   Column                                   Non-Null Count   Dtype  \n",
      "---  ------                                   --------------   -----  \n",
      " 0   Longitude                                122567 non-null  float64\n",
      " 1   Latitude                                 122567 non-null  float64\n",
      " 2   Police_Force                             122567 non-null  int64  \n",
      " 3   Accident_Severity                        122567 non-null  int64  \n",
      " 4   Number_of_Vehicles                       122567 non-null  int64  \n",
      " 5   Number_of_Casualties                     122567 non-null  int64  \n",
      " 6   Date                                     122567 non-null  int64  \n",
      " 7   Day_of_Week                              122567 non-null  int64  \n",
      " 8   Time                                     122567 non-null  int64  \n",
      " 9   Local_Authority_(District)               122567 non-null  int64  \n",
      " 10  1st_Road_Class                           122567 non-null  int64  \n",
      " 11  1st_Road_Number                          122567 non-null  int64  \n",
      " 12  Road_Type                                122567 non-null  int64  \n",
      " 13  Speed_limit                              122567 non-null  int64  \n",
      " 14  Junction_Detail                          122567 non-null  int64  \n",
      " 15  Junction_Control                         122567 non-null  int64  \n",
      " 16  2nd_Road_Class                           122567 non-null  int64  \n",
      " 17  2nd_Road_Number                          122567 non-null  int64  \n",
      " 18  Pedestrian_Crossing-Human_Control        122567 non-null  int64  \n",
      " 19  Pedestrian_Crossing-Physical_Facilities  122567 non-null  int64  \n",
      " 20  Light_Conditions                         122567 non-null  int64  \n",
      " 21  Weather_Conditions                       122567 non-null  int64  \n",
      " 22  Road_Surface_Conditions                  122567 non-null  int64  \n",
      " 23  Special_Conditions_at_Site               122567 non-null  int64  \n",
      " 24  Carriageway_Hazards                      122567 non-null  int64  \n",
      " 25  Urban_or_Rural_Area                      122567 non-null  int64  \n",
      " 26  Label                                    122567 non-null  int64  \n",
      "dtypes: float64(2), int64(25)\n",
      "memory usage: 26.2+ MB\n"
     ]
    }
   ],
   "source": [
    "df_RS.info()"
   ]
  },
  {
   "cell_type": "code",
   "execution_count": 17,
   "metadata": {},
   "outputs": [],
   "source": [
    "####################      LOCALIZATION      ####################"
   ]
  },
  {
   "cell_type": "code",
   "execution_count": 18,
   "metadata": {},
   "outputs": [],
   "source": [
    "# We group by label to see if there's so much difference\n",
    "grouped = df_RS.groupby(by=[\"Label\"])\n",
    "df_1 = grouped.get_group(1)\n",
    "df_2 = grouped.get_group(2)\n",
    "df_3 = grouped.get_group(3)"
   ]
  },
  {
   "cell_type": "code",
   "execution_count": 19,
   "metadata": {},
   "outputs": [
    {
     "data": {
      "text/plain": [
       " 1    87481\n",
       " 2    34143\n",
       " 3      941\n",
       "-1        2\n",
       "Name: Label, dtype: int64"
      ]
     },
     "execution_count": 19,
     "metadata": {},
     "output_type": "execute_result"
    }
   ],
   "source": [
    "# We can consider the labels with-1 as outliers\n",
    "df_RS[\"Label\"].value_counts()"
   ]
  },
  {
   "cell_type": "code",
   "execution_count": 20,
   "metadata": {},
   "outputs": [
    {
     "data": {
      "text/plain": [
       "(49.412362, 61.263721999999994)"
      ]
     },
     "execution_count": 20,
     "metadata": {},
     "output_type": "execute_result"
    },
    {
     "data": {
      "image/png": "[encoded data removed]",
      "text/plain": [
       "<Figure size 576x504 with 1 Axes>"
      ]
     },
     "metadata": {
      "needs_background": "light"
     },
     "output_type": "display_data"
    }
   ],
   "source": [
    "# Probably the number of accidents is higher in London and other big cities\n",
    "# I do not have the density of the population so I can't guess if the number of accidents \n",
    "# per population os bigger in the country\n",
    "import matplotlib.pyplot as plt\n",
    "Box = (df_RS.Longitude.min()-0.5, df_RS.Longitude.max()+0.5, df_RS.Latitude.min()-0.5, df_RS.Latitude.max()+0.5)\n",
    "fig, ax = plt.subplots(figsize = (8,7))\n",
    "ax.scatter(df_1.Longitude, df_1.Latitude, zorder=1, alpha= 0.2, c='b', s=1)\n",
    "ax.set_title(\"UK Accident's map\")\n",
    "ax.set_xlim(Box[0],Box[1])\n",
    "ax.set_ylim(Box[2],Box[3])"
   ]
  },
  {
   "cell_type": "code",
   "execution_count": 21,
   "metadata": {},
   "outputs": [
    {
     "data": {
      "text/plain": [
       "(49.412362, 61.263721999999994)"
      ]
     },
     "execution_count": 21,
     "metadata": {},
     "output_type": "execute_result"
    },
    {
     "data": {
      "image/png": "[encoded data removed]",
      "text/plain": [
       "<Figure size 576x504 with 1 Axes>"
      ]
     },
     "metadata": {
      "needs_background": "light"
     },
     "output_type": "display_data"
    }
   ],
   "source": [
    "fig, ax = plt.subplots(figsize = (8,7))\n",
    "ax.scatter(df_2.Longitude, df_2.Latitude, zorder=1, alpha= 0.2, c='b', s=1)\n",
    "ax.set_title(\"UK Accident's map\")\n",
    "ax.set_xlim(Box[0],Box[1])\n",
    "ax.set_ylim(Box[2],Box[3])"
   ]
  },
  {
   "cell_type": "code",
   "execution_count": 22,
   "metadata": {},
   "outputs": [
    {
     "data": {
      "text/plain": [
       "(49.412362, 61.263721999999994)"
      ]
     },
     "execution_count": 22,
     "metadata": {},
     "output_type": "execute_result"
    },
    {
     "data": {
      "image/png": "[encoded data removed]",
      "text/plain": [
       "<Figure size 576x504 with 1 Axes>"
      ]
     },
     "metadata": {
      "needs_background": "light"
     },
     "output_type": "display_data"
    }
   ],
   "source": [
    "fig, ax = plt.subplots(figsize = (8,7))\n",
    "ax.scatter(df_3.Longitude, df_3.Latitude, zorder=1, alpha= 0.2, c='b', s=10)\n",
    "ax.set_title(\"UK Accident's map\")\n",
    "ax.set_xlim(Box[0],Box[1])\n",
    "ax.set_ylim(Box[2],Box[3])"
   ]
  },
  {
   "cell_type": "code",
   "execution_count": 23,
   "metadata": {},
   "outputs": [],
   "source": [
    "# If you look online for the density it fits pretty well the last plots"
   ]
  },
  {
   "cell_type": "code",
   "execution_count": 24,
   "metadata": {},
   "outputs": [],
   "source": [
    "####################    SPLITING DATA SETS    ####################"
   ]
  },
  {
   "cell_type": "code",
   "execution_count": 25,
   "metadata": {},
   "outputs": [],
   "source": [
    "# I guess the option is to start preparing the data for the model\n",
    "# Since it is a classification problem with an amount of data that my computer can support pretty well\n",
    "# I am going to use Cross Validation to choose the model among a few from SKL and then see if a Simple NN do it better. \n",
    "# We do not need convolutions or recurrent models since it's not sequential and we do not need to share weights among\n",
    "# the features."
   ]
  },
  {
   "cell_type": "code",
   "execution_count": 26,
   "metadata": {
    "scrolled": true
   },
   "outputs": [
    {
     "data": {
      "text/plain": [
       " 1    87481\n",
       " 2    34143\n",
       " 3      941\n",
       "-1        2\n",
       "Name: Label, dtype: int64"
      ]
     },
     "execution_count": 26,
     "metadata": {},
     "output_type": "execute_result"
    }
   ],
   "source": [
    "# I am not sure which is the goal of the classification so since Acc is an average weight of Precission and Recall\n",
    "# it's a good general metric by default. Maybe, I will explain something about the confusion matrix later\n",
    "# The -1 labels has just two samples among 122k, we consider them outliers\n",
    "df_RS[\"Label\"].value_counts()"
   ]
  },
  {
   "cell_type": "markdown",
   "metadata": {},
   "source": [
    "#######       Amount of data per label      #######"
   ]
  },
  {
   "cell_type": "code",
   "execution_count": 27,
   "metadata": {},
   "outputs": [],
   "source": [
    "# Since the amount of samples per label is really different I have tried to use the same amount data per label\n",
    "# But the resulting neural network still have a hard overfitting\n",
    "# In fact, I guess it finds its minimum the Loss function where it labels all the predictions equal \n",
    "# because changing the size of the data sets per label the Accuracy tends to be the percent of the \n",
    "# most common label: \n",
    "# 1.   0.5 when I use df_1 and df_2 with same amount of data\n",
    "# 1.   0.33 when I use df_1, df_3 and df_2 with same amount of data\n",
    "# 1.   0.7136 when I use df_1, df_3 and df_2 with their original amount of data (Label=1 is 87481/122580= 0.7136)\n",
    "\n",
    "# cluster_dim = min(df_1.shape[0],df_2.shape[0])\n",
    "#df_1 = df_1.sample(n=cluster_dim)\n",
    "#df_2 = df_2.sample(n=cluster_dim)\n",
    "#df_3 = df_3.sample(n=cluster_dim)"
   ]
  },
  {
   "cell_type": "code",
   "execution_count": 28,
   "metadata": {},
   "outputs": [],
   "source": [
    "#######     Normalization    #######"
   ]
  },
  {
   "cell_type": "code",
   "execution_count": 29,
   "metadata": {},
   "outputs": [],
   "source": [
    "from sklearn import preprocessing\n",
    "MMS = preprocessing.MinMaxScaler()\n",
    "\n",
    "df_1_cols = df_1.columns.tolist()\n",
    "df_2_cols = df_2.columns.tolist()\n",
    "df_3_cols = df_3.columns.tolist()\n",
    "\n",
    "df_1_rows = df_1.index.tolist()\n",
    "df_2_rows = df_2.index.tolist()\n",
    "df_3_rows = df_3.index.tolist()\n",
    "\n",
    "\n",
    "Values_1 = df_1.values\n",
    "Values_2 = df_2.values\n",
    "Values_3 = df_3.values\n",
    "\n",
    "scaled_1 = MMS.fit_transform(Values_1)\n",
    "scaled_2 = MMS.fit_transform(Values_2)\n",
    "scaled_3 = MMS.fit_transform(Values_3)\n",
    "\n",
    "df_1_1 = pd.DataFrame(data = scaled_1, index = df_1_rows, columns = df_1_cols)\n",
    "df_1_2 = pd.DataFrame(data = scaled_2, index = df_2_rows, columns = df_2_cols)\n",
    "df_1_3 = pd.DataFrame(data = scaled_3, index = df_3_rows, columns = df_3_cols)"
   ]
  },
  {
   "cell_type": "code",
   "execution_count": 30,
   "metadata": {},
   "outputs": [],
   "source": [
    "#######     plitting for normalized and not    #######"
   ]
  },
  {
   "cell_type": "code",
   "execution_count": 31,
   "metadata": {},
   "outputs": [],
   "source": [
    "# We shuffle the groups before\n",
    "from sklearn.utils import shuffle\n",
    "def splitting(df_1,df_2,df_3):\n",
    "    df_1 = shuffle(df_1)\n",
    "    df_2 = shuffle(df_2)\n",
    "    df_3 = shuffle(df_3)\n",
    "    # Get the train sets\n",
    "    train_1 = df_1.sample(frac = 0.8, axis=0)\n",
    "    train_2 = df_2.sample(frac = 0.8, axis=0)\n",
    "    train_3 = df_3.sample(frac = 0.8, axis=0)\n",
    "    # getting their indexes and creating filters\n",
    "    list_1_train = train_1.index.tolist()\n",
    "    list_2_train = train_2.index.tolist()\n",
    "    list_3_train = train_3.index.tolist()\n",
    "    #\n",
    "    filter_1 = df_1.index.isin(list_1_train)\n",
    "    filter_2 = df_2.index.isin(list_2_train)\n",
    "    filter_3 = df_3.index.isin(list_3_train)\n",
    "    # take as test the complementaries\n",
    "    test_1 = df_1.loc[~filter_1]\n",
    "    test_2 = df_2.loc[~filter_2]\n",
    "    test_3 = df_3.loc[~filter_3]\n",
    "    # We join again the data sets and shuffle to don't send the batches by label\n",
    "    train = shuffle(train_1.append(train_2, ignore_index = True).append(train_3, ignore_index = True))\n",
    "    test = shuffle(test_1.append(test_2, ignore_index = True).append(test_3, ignore_index = True))\n",
    "    #train = shuffle(train_1.append(train_2, ignore_index = True))\n",
    "    #test = shuffle(test_1.append(test_2, ignore_index = True))\n",
    "    # Split into X and Y\n",
    "    X_train = train[train.columns.tolist()[0:-1]]\n",
    "    X_train_2 = train[train.columns.tolist()[2:-1]]\n",
    "    Y_train = train[\"Label\"]\n",
    "    X_test = test[test.columns.tolist()[0:-1]]\n",
    "    X_test_2 = test[test.columns.tolist()[2:-1]]\n",
    "    Y_test = test[\"Label\"]\n",
    "    return X_train, Y_train, X_test, Y_test, X_train_2, X_test_2"
   ]
  },
  {
   "cell_type": "code",
   "execution_count": 32,
   "metadata": {},
   "outputs": [],
   "source": [
    "X_train, Y_train, X_test, Y_test, X_train_2, X_test_2 = splitting(df_1,df_2,df_3)\n",
    "X_train_norm, Y_train_norm, X_test_norm, Y_test_norm, X_train_2_norm, X_test_2_norm = splitting(df_1_1,df_1_2,df_1_3)"
   ]
  },
  {
   "cell_type": "code",
   "execution_count": 35,
   "metadata": {},
   "outputs": [],
   "source": [
    "####################    MODELS   ####################"
   ]
  },
  {
   "cell_type": "code",
   "execution_count": 46,
   "metadata": {},
   "outputs": [],
   "source": [
    "# I few SKL tools\n",
    "from sklearn.svm import SVC\n",
    "from sklearn import metrics\n",
    "from sklearn.naive_bayes import MultinomialNB\n",
    "NB = MultinomialNB()\n",
    "from sklearn.ensemble import RandomForestClassifier\n",
    "RF = RandomForestClassifier()\n",
    "from sklearn import svm"
   ]
  },
  {
   "cell_type": "code",
   "execution_count": 37,
   "metadata": {},
   "outputs": [],
   "source": [
    "# MultinomialNB is discarted by the negative values in the not normalized dataset"
   ]
  },
  {
   "cell_type": "code",
   "execution_count": 40,
   "metadata": {},
   "outputs": [
    {
     "data": {
      "text/plain": [
       "1.0"
      ]
     },
     "execution_count": 40,
     "metadata": {},
     "output_type": "execute_result"
    }
   ],
   "source": [
    "NB.fit(X = X_train_norm,y = Y_train_norm)\n",
    "NB_pred = NB.predict(X_test_norm)\n",
    "metrics.accuracy_score(Y_test_norm,NB_pred)"
   ]
  },
  {
   "cell_type": "code",
   "execution_count": 41,
   "metadata": {},
   "outputs": [
    {
     "data": {
      "text/plain": [
       "array([[    0,     0,     0,     0],\n",
       "       [17496,     0,     0,     0],\n",
       "       [ 6829,     0,     0,     0],\n",
       "       [  188,     0,     0,     0]])"
      ]
     },
     "execution_count": 41,
     "metadata": {},
     "output_type": "execute_result"
    }
   ],
   "source": [
    "metrics.confusion_matrix(Y_test,NB_pred)"
   ]
  },
  {
   "cell_type": "code",
   "execution_count": 42,
   "metadata": {},
   "outputs": [],
   "source": [
    "# Randomforest are a good option. We do not understand completely all the features behaviors\n",
    "# and it does not need so much data mining"
   ]
  },
  {
   "cell_type": "code",
   "execution_count": 43,
   "metadata": {},
   "outputs": [
    {
     "data": {
      "text/plain": [
       "0.7994533512829927"
      ]
     },
     "execution_count": 43,
     "metadata": {},
     "output_type": "execute_result"
    }
   ],
   "source": [
    "# Random forest: Not normalized, with 26 feautures\n",
    "RF = RandomForestClassifier(max_depth=20,max_features=0.5)\n",
    "RF.fit(X = X_train,y = Y_train)\n",
    "RF_pred = RF.predict(X_test)\n",
    "metrics.accuracy_score(Y_test, RF_pred)"
   ]
  },
  {
   "cell_type": "code",
   "execution_count": 44,
   "metadata": {
    "scrolled": false
   },
   "outputs": [
    {
     "data": {
      "text/plain": [
       "1.0"
      ]
     },
     "execution_count": 44,
     "metadata": {},
     "output_type": "execute_result"
    }
   ],
   "source": [
    "# Random forest: Normalized, with 26 feautures\n",
    "RF = RandomForestClassifier(max_depth=20,max_features=0.5)\n",
    "RF.fit(X = X_train_norm,y = Y_train_norm)\n",
    "RF_pred = RF.predict(X_test_norm)\n",
    "metrics.accuracy_score(Y_test_norm, RF_pred)"
   ]
  },
  {
   "cell_type": "code",
   "execution_count": 45,
   "metadata": {},
   "outputs": [
    {
     "data": {
      "text/plain": [
       "0.7996165300044874"
      ]
     },
     "execution_count": 45,
     "metadata": {},
     "output_type": "execute_result"
    }
   ],
   "source": [
    "# Random forest: Not normalized, with 24 feautures (avoid those which are float)\n",
    "RF = RandomForestClassifier(max_depth=20,max_features=0.5)\n",
    "RF.fit(X = X_train_2,y = Y_train)\n",
    "RF_pred = RF.predict(X_test_2)\n",
    "metrics.accuracy_score(Y_test, RF_pred)"
   ]
  },
  {
   "cell_type": "code",
   "execution_count": 46,
   "metadata": {},
   "outputs": [
    {
     "data": {
      "text/plain": [
       "1.0"
      ]
     },
     "execution_count": 46,
     "metadata": {},
     "output_type": "execute_result"
    }
   ],
   "source": [
    "# Random forest: Not normalized, with 24 feautures (avoid those which were float, now all of them are)\n",
    "RF = RandomForestClassifier(max_depth=20,max_features=0.5)\n",
    "RF.fit(X = X_train_2_norm,y = Y_train_norm)\n",
    "RF_pred = RF.predict(X_test_2_norm)\n",
    "metrics.accuracy_score(Y_test_norm, RF_pred)"
   ]
  },
  {
   "cell_type": "code",
   "execution_count": 47,
   "metadata": {},
   "outputs": [],
   "source": [
    "# The library comes with some pruning algorithm in the back if I remember correctly but it looks like the overfitting\n",
    "# The splitting function shuffles the data but it still get this acc.\n",
    "from sklearn.tree import export_graphviz\n",
    "estimator = RF.estimators_[5]\n",
    "export_graphviz(estimator, \n",
    "                out_file='tree.dot', \n",
    "                feature_names = X_train_2_norm.columns.tolist(),\n",
    "                class_names = [\"1\",\"2\",\"3\"],\n",
    "                rounded = True, proportion = False, \n",
    "                precision = 2, filled = True)\n",
    "# Convert to png by commands\n",
    "#from subprocess import call\n",
    "#call(['dot', '-Tpng', 'tree.dot', '-o', 'tree.png', '-Gdpi=600'])\n",
    "# Display\n",
    "#from IPython.display import Image\n",
    "#Image(filename = 'tree.png')"
   ]
  },
  {
   "cell_type": "code",
   "execution_count": 33,
   "metadata": {},
   "outputs": [],
   "source": [
    "##############     S.V.M.     ##############"
   ]
  },
  {
   "cell_type": "markdown",
   "metadata": {},
   "source": [
    "By default it's rbf\n",
    "The complexity of this algorithm is O(n_samples^2 * n_features)\n",
    "After waiting for two hours with all the features it did not stop. So, I am going to reduce at leats the number of features since some of them look rendundat. I have picked up 6 that I guess can give an impression of the localization and the type of accident, which I found the most relevants.\n",
    "We could also use linear kernels, not RBF, which are much more faster. But the SVM optimize the boundary and it is pretty obvious that even with those five features the boundary might have very non linear shape."
   ]
  },
  {
   "cell_type": "code",
   "execution_count": 43,
   "metadata": {},
   "outputs": [],
   "source": [
    "X_train_sm = X_train_norm[[\"Longitude\",\"Latitude\",\"Number_of_Casualties\",\"Weather_Conditions\",\"Special_Conditions_at_Site\",\"Urban_or_Rural_Area\"]]\n",
    "X_test_sm = X_test_norm[[\"Longitude\",\"Latitude\",\"Number_of_Casualties\",\"Weather_Conditions\",\"Special_Conditions_at_Site\",\"Urban_or_Rural_Area\"]]"
   ]
  },
  {
   "cell_type": "code",
   "execution_count": 44,
   "metadata": {},
   "outputs": [
    {
     "data": {
      "text/plain": [
       "(98052, 6)"
      ]
     },
     "execution_count": 44,
     "metadata": {},
     "output_type": "execute_result"
    }
   ],
   "source": [
    "X.shape"
   ]
  },
  {
   "cell_type": "code",
   "execution_count": 47,
   "metadata": {},
   "outputs": [
    {
     "data": {
      "text/plain": [
       "0.7137437278178925"
      ]
     },
     "execution_count": 47,
     "metadata": {},
     "output_type": "execute_result"
    }
   ],
   "source": [
    "# SVM with radial kernel for 6 of the features normalized\n",
    "classf = svm.SVC()\n",
    "classf.fit(X_train_sm,y = Y_train)\n",
    "classf_pred = classf.predict(X_test_sm)\n",
    "metrics.accuracy_score(Y_test, classf_pred)"
   ]
  },
  {
   "cell_type": "code",
   "execution_count": 48,
   "metadata": {},
   "outputs": [],
   "source": [
    "##############################################################\n",
    "####################    NEURAL NETWORKS   ####################"
   ]
  },
  {
   "cell_type": "code",
   "execution_count": 49,
   "metadata": {},
   "outputs": [],
   "source": [
    "# Libraries for DL\n",
    "import tensorflow as tf\n",
    "from tensorflow import keras\n",
    "import keras\n",
    "from keras import backend as K # For the F1 score\n",
    "from keras.models import Sequential\n",
    "from keras.layers.core import Dense, Activation, Reshape, Dropout #, Input"
   ]
  },
  {
   "cell_type": "markdown",
   "metadata": {},
   "source": [
    "##############  METRICS: Recall, Precision, F1 Score ##############"
   ]
  },
  {
   "cell_type": "code",
   "execution_count": 50,
   "metadata": {},
   "outputs": [],
   "source": [
    "# This cell has been copied from my old code\n",
    "def recall_m(Y_true, Y_pred):\n",
    "    true_positives = K.sum(K.round(K.clip(Y_true * Y_pred, 0, 1)))\n",
    "    possible_positives = K.sum(K.round(K.clip(Y_true, 0, 1)))\n",
    "    recall = true_positives / (possible_positives + K.epsilon())\n",
    "    return recall\n",
    "\n",
    "def precision_m(Y_true, Y_pred):\n",
    "    true_positives = K.sum(K.round(K.clip(Y_true * Y_pred, 0, 1)))\n",
    "    predicted_positives = K.sum(K.round(K.clip(Y_pred, 0, 1)))\n",
    "    precision = true_positives / (predicted_positives + K.epsilon())\n",
    "    return precision\n",
    "\n",
    "def f1_m(Y_true, Y_pred):\n",
    "    precision = precision_m(Y_true, Y_pred)\n",
    "    recall = recall_m(Y_true, Y_pred)\n",
    "    return 2*((precision*recall)/(precision+recall+K.epsilon()))"
   ]
  },
  {
   "cell_type": "markdown",
   "metadata": {},
   "source": [
    "#################### Changing the input columns ####################"
   ]
  },
  {
   "cell_type": "code",
   "execution_count": 51,
   "metadata": {},
   "outputs": [],
   "source": [
    "# Split into X and Y\n",
    "#X_train = train[train.columns.tolist()[0:2]]\n",
    "#Y_train = train[\"Label\"]\n",
    "#X_test = test[test.columns.tolist()[0:2]]\n",
    "#Y_test = test[\"Label\"]"
   ]
  },
  {
   "cell_type": "markdown",
   "metadata": {},
   "source": [
    "###################### Using Dataset objects ######################"
   ]
  },
  {
   "cell_type": "code",
   "execution_count": 52,
   "metadata": {},
   "outputs": [],
   "source": [
    "# Move to Np and then Dataset objects\n",
    "#X_train_np = np.array(X_train.values)\n",
    "#Y_train_np = np.array(Y_train.values)\n",
    "#X_test_np = np.array(X_test.values)\n",
    "#Y_test_np = np.array(Y_test.values)\n",
    "#training_data = tf.data.Dataset.from_tensor_slices((X_train_np,Y_train_np))\n",
    "#test_data = tf.data.Dataset.from_tensor_slices((X_test_np,Y_test_np))\n",
    "# We prepare the batches\n",
    "#training_data = training_data.batch(20)\n",
    "#test_data = test_data.batch(10)"
   ]
  },
  {
   "cell_type": "markdown",
   "metadata": {},
   "source": [
    "##########################   Classic NN   ##########################"
   ]
  },
  {
   "cell_type": "code",
   "execution_count": 54,
   "metadata": {},
   "outputs": [],
   "source": [
    "#model = tf.keras.Sequential()\n",
    "#model.add(tf.keras.layers.Reshape((26,)))\n",
    "#model.add(tf.keras.layers.Embedding(embeddings.shape[0], embeddings.shape[1], input_length=max_length, trainable=False, weights=[embeddings], mask_zero=True))\n",
    "#model.add(tf.keras.layers.Dense(100, input_shape=(26,), activation='tanh'))\n",
    "\n",
    "#model.add(tf.keras.layers.Dense(50,activation='elu'))\n",
    "#model.add(tf.keras.layers.Dropout(0.5))\n",
    "\n",
    "#model.add(tf.keras.l.add(tf.keras.layers.Input(shape=(26,)))ayers.Conv1D(filters=200,kernel_size=3,padding='valid'))\n",
    "#model.add(tf.keras.layers.BatchNormalization(axis=-1, momentum=0.99, epsilon=0.001, center=True, scale=True,beta_initializer='zeros',\n",
    "#                              gamma_initializer='ones',moving_mean_initializer='zeros', moving_variance_initializer='ones'))\n",
    "\n",
    "#model.add(tf.keras.layers.Dense(100, activation='elu'))\n",
    "#model.add(tf.keras.layers.Dropout(0.5))\n",
    "\n",
    "#model.add(tf.keras.layers.Dense(500, activation='elu'))\n",
    "#model.add(tf.keras.layers.Dense(200, activation='elu'))\n",
    "#model.add(tf.keras.layers.Dense(50, activation='elu'))\n",
    "#model.add(tf.keras.layers.Dropout(0.5))\n",
    "#model.add(tf.keras.layers.Dense(25, activation='elu'))\n",
    "#model.add(tf.keras.layers.Dropout(0.5))\n",
    "\n",
    "#model.add(tf.keras.layers.Dense(1, activation='softmax'))\n",
    "\n",
    "model = Sequential()\n",
    "model.add(Reshape((26,)))\n",
    "#model.add(Input( shape=(26,), batch_size=100, name=\"Input_layer\"))\n",
    "#model.add(Dense(100))\n",
    "#model.add(Activation(\"elu\"))\n",
    "#model.add(Dropout(0.5))\n",
    "model.add(Dense(70))\n",
    "model.add(Activation(\"elu\"))\n",
    "model.add(Dropout(0.5))\n",
    "model.add(Dense(10))\n",
    "model.add(Activation(\"elu\"))\n",
    "model.add(Dropout(0.5))\n",
    "model.add(Dense(70))\n",
    "model.add(Activation(\"elu\"))\n",
    "model.add(Dropout(0.5))\n",
    "model.add(Dense(1))\n",
    "model.add(Activation(\"softmax\"))"
   ]
  },
  {
   "cell_type": "markdown",
   "metadata": {},
   "source": [
    "#################### Shaering features approach ####################"
   ]
  },
  {
   "cell_type": "code",
   "execution_count": 55,
   "metadata": {},
   "outputs": [],
   "source": [
    "model_rnn = tf.keras.Sequential()\n",
    "model_rnn.add(tf.keras.layers.Embedding(X_train.shape[0], X_train.shape[1], input_length=26,\n",
    "                                    trainable=False, weights=[X_train], mask_zero=True))\n",
    "model_rnn.add(tf.keras.layers.SpatialDropout1D(0.25))\n",
    "model_rnn.add(tf.keras.layers.Bidirectional(tf.keras.layers.LSTM(50, dropout=0.3, recurrent_dropout=0.3)))\n",
    "model_rnn.add(tf.keras.layers.Dropout(0.2))\n",
    "model_rnn.add(tf.keras.layers.Dense(50, activation='elu'))\n",
    "model_rnn.add(tf.keras.layers.Dense(25, activation='elu'))\n",
    "model_rnn.add(tf.keras.layers.Dense(1, activation='sigmoid'))"
   ]
  },
  {
   "cell_type": "code",
   "execution_count": 56,
   "metadata": {},
   "outputs": [],
   "source": [
    "# In the original model they use a different loss function. We take the most common for a binary classification\n",
    "# adams (mix of momentum and RMSProp) for the optimizer.\n",
    "# Since we do not know the goal of the classifier we are going to calculate the 4 most common measures\n",
    "my_optimizer = tf.keras.optimizers.Adam(\n",
    "    learning_rate=0.2,\n",
    "    beta_1=0.7,\n",
    "    beta_2=0.7,\n",
    "    epsilon=1e-07,\n",
    "    amsgrad=False,\n",
    "    name=\"Adam\",\n",
    ")\n",
    "model.compile(loss='categorical_crossentropy', optimizer=my_optimizer,\n",
    "               metrics=['acc',f1_m, precision_m, recall_m])\n",
    "#model_rnn.compile(loss='categorical_crossentropy', optimizer=\"adam\", metrics=['acc',f1_m, precision_m, recall_m])"
   ]
  },
  {
   "cell_type": "code",
   "execution_count": 57,
   "metadata": {},
   "outputs": [],
   "source": [
    "# Model's check point\n",
    "import datetime\n",
    "import os\n",
    "from tensorflow.keras.callbacks import ModelCheckpoint, TensorBoard\n",
    "\n",
    "timestr = datetime.datetime.now().strftime(\"%Y%m%d-%H%M%S\")\n",
    "name = 'Sentiment_classifier_res_net_-' + timestr\n",
    "\n",
    "checkpoint_path = os.path.join(base_path, \"checkpoints\", \"+name+\", \"cp-{epoch:04d}.ckpt\")\n",
    "checkpoint_dir = os.path.dirname(checkpoint_path)\n",
    "os.system('mkdir {}'.format(checkpoint_dir))\n",
    "\n",
    "# save model after each epoch\n",
    "cp_callback = ModelCheckpoint(filepath = checkpoint_path, verbose=1)\n",
    "\n",
    "tensorboard_callback = TensorBoard(log_dir = 'tensorboard_logs/'+name, histogram_freq=1)"
   ]
  },
  {
   "cell_type": "markdown",
   "metadata": {},
   "source": [
    "################    Training and plotting     ################"
   ]
  },
  {
   "cell_type": "code",
   "execution_count": 58,
   "metadata": {},
   "outputs": [
    {
     "name": "stdout",
     "output_type": "stream",
     "text": [
      "Epoch 1/10\n",
      "WARNING:tensorflow:Layer reshape_1 is casting an input tensor from dtype float64 to the layer's dtype of float32, which is new behavior in TensorFlow 2.  The layer has dtype float32 because its dtype defaults to floatx.\n",
      "\n",
      "If you intended to run this layer in float32, you can safely ignore this warning. If in doubt, this warning is likely only an issue if you are porting a TensorFlow 1.X model to TensorFlow 2.\n",
      "\n",
      "To change all layers to have dtype float64 by default, call `tf.keras.backend.set_floatx('float64')`. To change just this layer, pass dtype='float64' to the layer constructor. If you are the author of this layer, you can disable autocasting by passing autocast=False to the base Layer constructor.\n",
      "\n",
      "  1/491 [..............................] - ETA: 0s - loss: 0.0000e+00 - acc: 0.7100 - f1_m: 1.0000 - precision_m: 1.0000 - recall_m: 1.0000WARNING:tensorflow:From /home/alejo/.local/lib/python3.8/site-packages/tensorflow/python/ops/summary_ops_v2.py:1277: stop (from tensorflow.python.eager.profiler) is deprecated and will be removed after 2020-07-01.\n",
      "Instructions for updating:\n",
      "use `tf.profiler.experimental.stop` instead.\n",
      "WARNING:tensorflow:Callbacks method `on_train_batch_end` is slow compared to the batch time (batch time: 0.0057s vs `on_train_batch_end` time: 0.0281s). Check your callbacks.\n",
      "480/491 [============================>.] - ETA: 0s - loss: 0.0000e+00 - acc: 0.7138 - f1_m: 1.0000 - precision_m: 1.0000 - recall_m: 1.0000\n",
      "Epoch 00001: saving model to /home/alejo/Desktop/Sleepiz_AG/checkpoints/+name+/cp-0001.ckpt\n",
      "WARNING:tensorflow:From /home/alejo/.local/lib/python3.8/site-packages/tensorflow/python/training/tracking/tracking.py:111: Model.state_updates (from tensorflow.python.keras.engine.training) is deprecated and will be removed in a future version.\n",
      "Instructions for updating:\n",
      "This property should not be used in TensorFlow 2.0, as updates are applied automatically.\n",
      "WARNING:tensorflow:From /home/alejo/.local/lib/python3.8/site-packages/tensorflow/python/training/tracking/tracking.py:111: Layer.updates (from tensorflow.python.keras.engine.base_layer) is deprecated and will be removed in a future version.\n",
      "Instructions for updating:\n",
      "This property should not be used in TensorFlow 2.0, as updates are applied automatically.\n",
      "INFO:tensorflow:Assets written to: /home/alejo/Desktop/Sleepiz_AG/checkpoints/+name+/cp-0001.ckpt/assets\n",
      "491/491 [==============================] - 3s 6ms/step - loss: 0.0000e+00 - acc: 0.7138 - f1_m: 1.0000 - precision_m: 1.0000 - recall_m: 1.0000 - val_loss: 0.0000e+00 - val_acc: 0.7137 - val_f1_m: 1.0000 - val_precision_m: 1.0000 - val_recall_m: 1.0000\n",
      "Epoch 2/10\n",
      "486/491 [============================>.] - ETA: 0s - loss: 0.0000e+00 - acc: 0.7138 - f1_m: 1.0000 - precision_m: 1.0000 - recall_m: 1.0000\n",
      "Epoch 00002: saving model to /home/alejo/Desktop/Sleepiz_AG/checkpoints/+name+/cp-0002.ckpt\n",
      "INFO:tensorflow:Assets written to: /home/alejo/Desktop/Sleepiz_AG/checkpoints/+name+/cp-0002.ckpt/assets\n",
      "491/491 [==============================] - 2s 5ms/step - loss: 0.0000e+00 - acc: 0.7138 - f1_m: 1.0000 - precision_m: 1.0000 - recall_m: 1.0000 - val_loss: 0.0000e+00 - val_acc: 0.7137 - val_f1_m: 1.0000 - val_precision_m: 1.0000 - val_recall_m: 1.0000\n",
      "Epoch 3/10\n",
      "474/491 [===========================>..] - ETA: 0s - loss: 0.0000e+00 - acc: 0.7140 - f1_m: 1.0000 - precision_m: 1.0000 - recall_m: 1.0000\n",
      "Epoch 00003: saving model to /home/alejo/Desktop/Sleepiz_AG/checkpoints/+name+/cp-0003.ckpt\n",
      "INFO:tensorflow:Assets written to: /home/alejo/Desktop/Sleepiz_AG/checkpoints/+name+/cp-0003.ckpt/assets\n",
      "491/491 [==============================] - 2s 5ms/step - loss: 0.0000e+00 - acc: 0.7138 - f1_m: 1.0000 - precision_m: 1.0000 - recall_m: 1.0000 - val_loss: 0.0000e+00 - val_acc: 0.7137 - val_f1_m: 1.0000 - val_precision_m: 1.0000 - val_recall_m: 1.0000\n",
      "Epoch 4/10\n",
      "484/491 [============================>.] - ETA: 0s - loss: 0.0000e+00 - acc: 0.7139 - f1_m: 1.0000 - precision_m: 1.0000 - recall_m: 1.0000\n",
      "Epoch 00004: saving model to /home/alejo/Desktop/Sleepiz_AG/checkpoints/+name+/cp-0004.ckpt\n",
      "INFO:tensorflow:Assets written to: /home/alejo/Desktop/Sleepiz_AG/checkpoints/+name+/cp-0004.ckpt/assets\n",
      "491/491 [==============================] - 3s 5ms/step - loss: 0.0000e+00 - acc: 0.7138 - f1_m: 1.0000 - precision_m: 1.0000 - recall_m: 1.0000 - val_loss: 0.0000e+00 - val_acc: 0.7137 - val_f1_m: 1.0000 - val_precision_m: 1.0000 - val_recall_m: 1.0000\n",
      "Epoch 5/10\n",
      "488/491 [============================>.] - ETA: 0s - loss: 0.0000e+00 - acc: 0.7138 - f1_m: 1.0000 - precision_m: 1.0000 - recall_m: 1.0000\n",
      "Epoch 00005: saving model to /home/alejo/Desktop/Sleepiz_AG/checkpoints/+name+/cp-0005.ckpt\n",
      "INFO:tensorflow:Assets written to: /home/alejo/Desktop/Sleepiz_AG/checkpoints/+name+/cp-0005.ckpt/assets\n",
      "491/491 [==============================] - 3s 6ms/step - loss: 0.0000e+00 - acc: 0.7138 - f1_m: 1.0000 - precision_m: 1.0000 - recall_m: 1.0000 - val_loss: 0.0000e+00 - val_acc: 0.7137 - val_f1_m: 1.0000 - val_precision_m: 1.0000 - val_recall_m: 1.0000\n",
      "Epoch 6/10\n",
      "476/491 [============================>.] - ETA: 0s - loss: 0.0000e+00 - acc: 0.7134 - f1_m: 1.0000 - precision_m: 1.0000 - recall_m: 1.0000\n",
      "Epoch 00006: saving model to /home/alejo/Desktop/Sleepiz_AG/checkpoints/+name+/cp-0006.ckpt\n",
      "INFO:tensorflow:Assets written to: /home/alejo/Desktop/Sleepiz_AG/checkpoints/+name+/cp-0006.ckpt/assets\n",
      "491/491 [==============================] - 2s 5ms/step - loss: 0.0000e+00 - acc: 0.7138 - f1_m: 1.0000 - precision_m: 1.0000 - recall_m: 1.0000 - val_loss: 0.0000e+00 - val_acc: 0.7137 - val_f1_m: 1.0000 - val_precision_m: 1.0000 - val_recall_m: 1.0000\n",
      "Epoch 7/10\n",
      "485/491 [============================>.] - ETA: 0s - loss: 0.0000e+00 - acc: 0.7137 - f1_m: 1.0000 - precision_m: 1.0000 - recall_m: 1.0000\n",
      "Epoch 00007: saving model to /home/alejo/Desktop/Sleepiz_AG/checkpoints/+name+/cp-0007.ckpt\n",
      "INFO:tensorflow:Assets written to: /home/alejo/Desktop/Sleepiz_AG/checkpoints/+name+/cp-0007.ckpt/assets\n",
      "491/491 [==============================] - 2s 5ms/step - loss: 0.0000e+00 - acc: 0.7138 - f1_m: 1.0000 - precision_m: 1.0000 - recall_m: 1.0000 - val_loss: 0.0000e+00 - val_acc: 0.7137 - val_f1_m: 1.0000 - val_precision_m: 1.0000 - val_recall_m: 1.0000\n",
      "Epoch 8/10\n",
      "469/491 [===========================>..] - ETA: 0s - loss: 0.0000e+00 - acc: 0.7143 - f1_m: 1.0000 - precision_m: 1.0000 - recall_m: 1.0000\n",
      "Epoch 00008: saving model to /home/alejo/Desktop/Sleepiz_AG/checkpoints/+name+/cp-0008.ckpt\n",
      "INFO:tensorflow:Assets written to: /home/alejo/Desktop/Sleepiz_AG/checkpoints/+name+/cp-0008.ckpt/assets\n",
      "491/491 [==============================] - 2s 5ms/step - loss: 0.0000e+00 - acc: 0.7138 - f1_m: 1.0000 - precision_m: 1.0000 - recall_m: 1.0000 - val_loss: 0.0000e+00 - val_acc: 0.7137 - val_f1_m: 1.0000 - val_precision_m: 1.0000 - val_recall_m: 1.0000\n",
      "Epoch 9/10\n",
      "484/491 [============================>.] - ETA: 0s - loss: 0.0000e+00 - acc: 0.7137 - f1_m: 1.0000 - precision_m: 1.0000 - recall_m: 1.0000\n",
      "Epoch 00009: saving model to /home/alejo/Desktop/Sleepiz_AG/checkpoints/+name+/cp-0009.ckpt\n",
      "INFO:tensorflow:Assets written to: /home/alejo/Desktop/Sleepiz_AG/checkpoints/+name+/cp-0009.ckpt/assets\n",
      "491/491 [==============================] - 2s 5ms/step - loss: 0.0000e+00 - acc: 0.7138 - f1_m: 1.0000 - precision_m: 1.0000 - recall_m: 1.0000 - val_loss: 0.0000e+00 - val_acc: 0.7137 - val_f1_m: 1.0000 - val_precision_m: 1.0000 - val_recall_m: 1.0000\n",
      "Epoch 10/10\n",
      "466/491 [===========================>..] - ETA: 0s - loss: 0.0000e+00 - acc: 0.7139 - f1_m: 1.0000 - precision_m: 1.0000 - recall_m: 1.0000\n",
      "Epoch 00010: saving model to /home/alejo/Desktop/Sleepiz_AG/checkpoints/+name+/cp-0010.ckpt\n",
      "INFO:tensorflow:Assets written to: /home/alejo/Desktop/Sleepiz_AG/checkpoints/+name+/cp-0010.ckpt/assets\n",
      "491/491 [==============================] - 2s 5ms/step - loss: 0.0000e+00 - acc: 0.7138 - f1_m: 1.0000 - precision_m: 1.0000 - recall_m: 1.0000 - val_loss: 0.0000e+00 - val_acc: 0.7137 - val_f1_m: 1.0000 - val_precision_m: 1.0000 - val_recall_m: 1.0000\n"
     ]
    }
   ],
   "source": [
    "# Training and plotting\n",
    "history = model.fit(X_train, Y_train,epochs=10, verbose=1, \n",
    "                    validation_data=(X_test, Y_test),\n",
    "                    batch_size=200,callbacks=[cp_callback, tensorboard_callback])"
   ]
  },
  {
   "cell_type": "code",
   "execution_count": 59,
   "metadata": {},
   "outputs": [
    {
     "name": "stdout",
     "output_type": "stream",
     "text": [
      "dict_keys(['loss', 'acc', 'f1_m', 'precision_m', 'recall_m', 'val_loss', 'val_acc', 'val_f1_m', 'val_precision_m', 'val_recall_m'])\n"
     ]
    },
    {
     "data": {
      "image/png": "[encoded data removed]",
      "text/plain": [
       "<Figure size 432x288 with 1 Axes>"
      ]
     },
     "metadata": {
      "needs_background": "light"
     },
     "output_type": "display_data"
    },
    {
     "data": {
      "image/png": "[encoded data removed]",
      "text/plain": [
       "<Figure size 432x288 with 1 Axes>"
      ]
     },
     "metadata": {
      "needs_background": "light"
     },
     "output_type": "display_data"
    }
   ],
   "source": [
    "# We summarize the history for accuracy\n",
    "print(history.history.keys())\n",
    "plt.plot(history.history['acc'])\n",
    "#plt.plot(history.history['val_accuracy'])\n",
    "plt.title('model accuracy')\n",
    "plt.ylabel('accuracy')\n",
    "plt.xlabel('epoch')\n",
    "plt.legend(['train', 'test'], loc='upper left')\n",
    "plt.show()\n",
    "# We summarize history for loss\n",
    "plt.plot(history.history['loss'])\n",
    "plt.plot(history.history['val_loss'])\n",
    "plt.title('model loss')\n",
    "plt.ylabel('loss')\n",
    "plt.xlabel('epoch')\n",
    "plt.legend(['train', 'test'], loc='upper left')\n",
    "plt.show()"
   ]
  },
  {
   "cell_type": "code",
   "execution_count": 60,
   "metadata": {},
   "outputs": [
    {
     "name": "stdout",
     "output_type": "stream",
     "text": [
      "Model: \"sequential_1\"\n",
      "_________________________________________________________________\n",
      "Layer (type)                 Output Shape              Param #   \n",
      "=================================================================\n",
      "reshape_1 (Reshape)          (None, 26)                0         \n",
      "_________________________________________________________________\n",
      "dense_5 (Dense)              (None, 70)                1890      \n",
      "_________________________________________________________________\n",
      "activation_5 (Activation)    (None, 70)                0         \n",
      "_________________________________________________________________\n",
      "dropout_4 (Dropout)          (None, 70)                0         \n",
      "_________________________________________________________________\n",
      "dense_6 (Dense)              (None, 10)                710       \n",
      "_________________________________________________________________\n",
      "activation_6 (Activation)    (None, 10)                0         \n",
      "_________________________________________________________________\n",
      "dropout_5 (Dropout)          (None, 10)                0         \n",
      "_________________________________________________________________\n",
      "dense_7 (Dense)              (None, 70)                770       \n",
      "_________________________________________________________________\n",
      "activation_7 (Activation)    (None, 70)                0         \n",
      "_________________________________________________________________\n",
      "dropout_6 (Dropout)          (None, 70)                0         \n",
      "_________________________________________________________________\n",
      "dense_8 (Dense)              (None, 1)                 71        \n",
      "_________________________________________________________________\n",
      "activation_8 (Activation)    (None, 1)                 0         \n",
      "=================================================================\n",
      "Total params: 3,441\n",
      "Trainable params: 3,441\n",
      "Non-trainable params: 0\n",
      "_________________________________________________________________\n"
     ]
    }
   ],
   "source": [
    "# Model's summary\n",
    "model.summary()"
   ]
  },
  {
   "cell_type": "markdown",
   "metadata": {},
   "source": [
    "I guess the Loss function converges to a minimum where it labels all the predictions equally, \n",
    "because changing the size of the data sets per label makes Accuracy tend to be the percent of the \n",
    "most common label: \n",
    " 1.   0.5 when I use df_1 and df_2 with same amount of data\n",
    " 2.   0.33 when I use df_1, df_3 and df_2 with same amount of data\n",
    " 3.   0.7136 when I use df_1, df_3 and df_2 with their original amount of data (Label=1 is 87481/122580= 0.7136)\n",
    "We have a problem of overfitting:\n",
    " 1. I tried to reduce the depth but still produce overfitting (original it was 150k parameters)\n",
    " 2. I tried to add hard dropouts after the layers the depth but still overfitting\n",
    " 3. The regularization is given by ADAMS; incressing regularization did not work neither\n",
    " 4. I tried others approaches: shaering features (conv1, or LSTM, autoencoder architecture to see common features     in the bottle neck,to capture the redundance of the three main types of accidents), Cross_validation with         different dataset size. I could try with Resnet, but it's not so deep, and I have passed the time."
   ]
  },
  {
   "cell_type": "markdown",
   "metadata": {},
   "source": [
    "###   Model performance\n",
    "To me it's pretty clear that the original approach with \"classic\" classifiers is a better option, \n",
    "cheaper and with higher accuracy. I would implement this problem with random forest, I guess it's the faster and with highest accuary which also work for different kinds of data.\n",
    " 1. NB: it needs normalization I am not sure if there's an overfitting in our case\n",
    " 2. RF: The best option\n",
    " 3. SVM: Too expensive and tends to converge to the same minimum that the NN\n",
    " 4. NN: described just above"
   ]
  },
  {
   "cell_type": "markdown",
   "metadata": {},
   "source": [
    "###   Toolkit (algorithms)\n",
    " 0. Loading data: os module. It writes the paths depending of the OS, so the code should work for OX, ubuntu and       Windows\n",
    " 1. Data mining: mainly pandas. At some point numpy or sklearn to shuffle\n",
    " 2. Plotting: Matplotlib\n",
    " 3. No NN models: Naive Bayes, Random Forest and SVM from sklearn, without so much tuning of the parameters\n",
    " 4. NN models: Tensorflow and keras."
   ]
  },
  {
   "cell_type": "markdown",
   "metadata": {},
   "source": [
    "###   Insights you gained from the data\n",
    "This was said along the notebook, but a few remarks are:\n",
    " 1. There are three types features based on localization, type of accident and datetime\n",
    " 2. There are some periodicities along the time, mainly week and hour of the day\n",
    " 3. The localization is mainly given with Longitud and Latitude (and this two matters while considering a model)\n",
    " 4. I spend a while trying to fit the net and I have passed the 5 hours now, but if would spend more time I would     like to look deeper into the data. For example, I would do the map plots again but with \"Number_of_Casualties\"     and each one of the labels.\n",
    " 5. The amount of data is not enough to use NN."
   ]
  },
  {
   "cell_type": "markdown",
   "metadata": {},
   "source": [
    "###  Limitations of the data and your approach – what would you do differently if you had more time or resources?\n",
    "I have done comments about it before. But right now I would do the following\n",
    " 1. Try to print the results of those that geva 1 in accuaricy. It looks to good and I want to be sure what's         going on behind. I let a try that I was doing to print the random forest decission tree.\n",
    " 2. If they are not working properly try to solve it. \n",
    " 3. With more computational capacity and allowed to use the other years I would take them to add data. Maybe the       NN fits better\n",
    " 4. If the acc gets down because there was a mistake and I would have more computational capacity I would try to         train the SVM with more variables and data and check the results with different variables and data to             undertand its result and the one from the NN maybe.\n",
    " 5. Maybe with more time I would thing about a mix model, like adding PCA before or some way of trait the data         before  the model"
   ]
  },
  {
   "cell_type": "code",
   "execution_count": null,
   "metadata": {},
   "outputs": [],
   "source": []
  }
 ],
 "metadata": {
  "kernelspec": {
   "display_name": "Python 3",
   "language": "python",
   "name": "python3"
  },
  "language_info": {
   "codemirror_mode": {
    "name": "ipython",
    "version": 3
   },
   "file_extension": ".py",
   "mimetype": "text/x-python",
   "name": "python",
   "nbconvert_exporter": "python",
   "pygments_lexer": "ipython3",
   "version": "3.8.2"
  }
 },
 "nbformat": 4,
 "nbformat_minor": 4
}
